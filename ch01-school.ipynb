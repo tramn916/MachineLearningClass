{
 "cells": [
  {
   "cell_type": "markdown",
   "metadata": {},
   "source": [
    "# IST 371 Machine Learning \n",
    "\n",
    "## Spring 2019\n",
    "\n",
    "### Chapter 1 homework\n",
    "\n",
    "For this chapter's homework, create a linear regression model, like we did in the chapter's example. For the assignment, use the provided `oregon-math-vs-lunch.csv` file, which lists the percent of all students who were proficient in mathematics (based on state testing) and the percentage of students recieving free or reduced-cost lunches, on a district-by-district basis, for the state of Oregon. The prompts below will guide you through the assignment."
   ]
  },
  {
   "cell_type": "markdown",
   "metadata": {},
   "source": [
    "#### Step 1. Imports and such\n",
    "\n",
    "I'll give you the first step. The following code imports the Python libraries you should need for the assignment, and makes the Matplot figures show up in this notebook."
   ]
  },
  {
   "cell_type": "code",
   "execution_count": 13,
   "metadata": {},
   "outputs": [],
   "source": [
    "# Make sure you run this cell by hitting Shift+Enter before running your own code below!\n",
    "import matplotlib\n",
    "import matplotlib.pyplot as plt\n",
    "import numpy as np\n",
    "import pandas as pd\n",
    "import sklearn.linear_model\n",
    "\n",
    "# The 'magic words' to make Matplot figures show up inside the notebook\n",
    "%matplotlib inline"
   ]
  },
  {
   "cell_type": "markdown",
   "metadata": {},
   "source": [
    "#### Step 2. Read the data into a Pandas dataframe\n",
    "\n",
    "In the next cell, write code to read in the data from the `oregon-math-vs-lunch.csv` file and place it in a Pandas dataframe. Also, drop any rows that contain non-numeric data, since there are some districts where one or both of the columns are not reported, or are reported in a way that we can't easily deal with. Once you've got your dataframe, display it's contents -- on the final line of the cell, type just the name of the dataframe. When you run the cell, you should see your prepared data!"
   ]
  },
  {
   "cell_type": "code",
   "execution_count": 20,
   "metadata": {},
   "outputs": [
    {
     "data": {
      "text/html": [
       "<div>\n",
       "<style scoped>\n",
       "    .dataframe tbody tr th:only-of-type {\n",
       "        vertical-align: middle;\n",
       "    }\n",
       "\n",
       "    .dataframe tbody tr th {\n",
       "        vertical-align: top;\n",
       "    }\n",
       "\n",
       "    .dataframe thead th {\n",
       "        text-align: right;\n",
       "    }\n",
       "</style>\n",
       "<table border=\"1\" class=\"dataframe\">\n",
       "  <thead>\n",
       "    <tr style=\"text-align: right;\">\n",
       "      <th></th>\n",
       "      <th>District ID</th>\n",
       "      <th>Percent Proficient (Level 3 or 4)</th>\n",
       "      <th>Percent Free Lunch</th>\n",
       "    </tr>\n",
       "  </thead>\n",
       "  <tbody>\n",
       "    <tr>\n",
       "      <th>0</th>\n",
       "      <td>1894</td>\n",
       "      <td>34.1</td>\n",
       "      <td>26.07</td>\n",
       "    </tr>\n",
       "    <tr>\n",
       "      <th>1</th>\n",
       "      <td>1895</td>\n",
       "      <td>8.9</td>\n",
       "      <td>77.17</td>\n",
       "    </tr>\n",
       "    <tr>\n",
       "      <th>2</th>\n",
       "      <td>1896</td>\n",
       "      <td>17.6</td>\n",
       "      <td>57.89</td>\n",
       "    </tr>\n",
       "    <tr>\n",
       "      <th>3</th>\n",
       "      <td>1897</td>\n",
       "      <td>51.6</td>\n",
       "      <td>65.13</td>\n",
       "    </tr>\n",
       "    <tr>\n",
       "      <th>4</th>\n",
       "      <td>1898</td>\n",
       "      <td>19.0</td>\n",
       "      <td>47.26</td>\n",
       "    </tr>\n",
       "    <tr>\n",
       "      <th>...</th>\n",
       "      <td>...</td>\n",
       "      <td>...</td>\n",
       "      <td>...</td>\n",
       "    </tr>\n",
       "    <tr>\n",
       "      <th>182</th>\n",
       "      <td>2257</td>\n",
       "      <td>23.7</td>\n",
       "      <td>55.70</td>\n",
       "    </tr>\n",
       "    <tr>\n",
       "      <th>183</th>\n",
       "      <td>2262</td>\n",
       "      <td>18.2</td>\n",
       "      <td>50.71</td>\n",
       "    </tr>\n",
       "    <tr>\n",
       "      <th>184</th>\n",
       "      <td>2336</td>\n",
       "      <td>32.4</td>\n",
       "      <td>39.34</td>\n",
       "    </tr>\n",
       "    <tr>\n",
       "      <th>186</th>\n",
       "      <td>3997</td>\n",
       "      <td>28.3</td>\n",
       "      <td>48.89</td>\n",
       "    </tr>\n",
       "    <tr>\n",
       "      <th>187</th>\n",
       "      <td>4131</td>\n",
       "      <td>27.9</td>\n",
       "      <td>66.26</td>\n",
       "    </tr>\n",
       "  </tbody>\n",
       "</table>\n",
       "<p>173 rows × 3 columns</p>\n",
       "</div>"
      ],
      "text/plain": [
       "     District ID  Percent Proficient (Level 3 or 4)  Percent Free Lunch\n",
       "0           1894                               34.1               26.07\n",
       "1           1895                                8.9               77.17\n",
       "2           1896                               17.6               57.89\n",
       "3           1897                               51.6               65.13\n",
       "4           1898                               19.0               47.26\n",
       "..           ...                                ...                 ...\n",
       "182         2257                               23.7               55.70\n",
       "183         2262                               18.2               50.71\n",
       "184         2336                               32.4               39.34\n",
       "186         3997                               28.3               48.89\n",
       "187         4131                               27.9               66.26\n",
       "\n",
       "[173 rows x 3 columns]"
      ]
     },
     "execution_count": 20,
     "metadata": {},
     "output_type": "execute_result"
    }
   ],
   "source": [
    "# read input data here, drop non-numeric rows, and then display the frame\n",
    "import pandas as pd\n",
    "\n",
    "data = pd.read_csv(\"oregon-math-vs-lunch.csv\", thousands= ',')\n",
    "data = data.dropna()\n",
    "data"
   ]
  },
  {
   "cell_type": "markdown",
   "metadata": {},
   "source": [
    "#### Step 3. Plot the data to see if there appears to be a correlation\n",
    "\n",
    "In the cell below, create and display a scatter plot similar to the one on page 19 of your text. You don't have to worry about the arrows or text labels. Use the percentage of students recieving free or reduced cost lunches as the x-axis, and the percentage of students proficient in math as the y-axis. "
   ]
  },
  {
   "cell_type": "code",
   "execution_count": 26,
   "metadata": {},
   "outputs": [
    {
     "data": {
      "image/png": "[encoded data removed]",
      "text/plain": [
       "<Figure size 504x360 with 1 Axes>"
      ]
     },
     "metadata": {
      "needs_background": "light"
     },
     "output_type": "display_data"
    }
   ],
   "source": [
    "# create a scatter plot of the data here\n",
    "\n",
    "data.plot(kind='scatter', x=\"Percent Free Lunch\", y=\"Percent Proficient (Level 3 or 4)\", figsize=(7,5))\n",
    "plt.axis([0,100, 0,100])\n",
    "plt.show()"
   ]
  },
  {
   "cell_type": "markdown",
   "metadata": {},
   "source": [
    "#### Step 4. Train a linear regression model \n",
    "\n",
    "In the cell below, create and train a linear regression model on the school data, using the lunch data as the x values and the math test data as the y values. "
   ]
  },
  {
   "cell_type": "code",
   "execution_count": 27,
   "metadata": {},
   "outputs": [
    {
     "data": {
      "text/plain": [
       "LinearRegression()"
      ]
     },
     "execution_count": 27,
     "metadata": {},
     "output_type": "execute_result"
    }
   ],
   "source": [
    "import sklearn.linear_model\n",
    "\n",
    "# select the 'Percent Free Lunch' column as the variable X\n",
    "X = np.c_[data[\"Percent Free Lunch\"]]\n",
    "\n",
    "# select the 'Percent Proficient (Level 3 or 4)' column as the variable Y\n",
    "y = np.c_[data[\"Percent Proficient (Level 3 or 4)\"]]\n",
    "\n",
    "# create and train a linear regression model using X and Y\n",
    "# Select a linear model\n",
    "model = sklearn.linear_model.LinearRegression()\n",
    "\n",
    "# Train the model. This doesn't work if there are undefined(Nan) values in the data  \n",
    "model.fit(X, y)"
   ]
  },
  {
   "cell_type": "markdown",
   "metadata": {},
   "source": [
    "#### Step 5. Display the model's line\n",
    "\n",
    "In the cell below, create some X values that can be used to plot your linear regression model's prediction line, say, a range of values from 1 to 100. Then, find the Y values predicted by your model. Finally, plot your model's prediction line along with the scatter plot data from above. "
   ]
  },
  {
   "cell_type": "code",
   "execution_count": 28,
   "metadata": {},
   "outputs": [
    {
     "data": {
      "image/png": "[encoded data removed]",
      "text/plain": [
       "<Figure size 504x360 with 1 Axes>"
      ]
     },
     "metadata": {
      "needs_background": "light"
     },
     "output_type": "display_data"
    }
   ],
   "source": [
    "# create X values in the range 1 to 100\n",
    "X_line = np.c_[pd.DataFrame(list(range(1, 100, 1)))]\n",
    "\n",
    "# use the model to calculate the Y values associated with the data you just made\n",
    "y_line = model.predict(X_line)\n",
    "\n",
    "# recreate the scatter plot of the original data\n",
    "data.plot(kind='scatter', x=\"Percent Free Lunch\", y=\"Percent Proficient (Level 3 or 4)\", figsize=(7,5))\n",
    "plt.axis([0,100, 0,100])\n",
    "\n",
    "# plot your test X and Y values, using a black line\n",
    "plt.plot(X_line, y_line, color = 'black')\n",
    "\n",
    "# show the plot\n",
    "plt.show()"
   ]
  },
  {
   "cell_type": "code",
   "execution_count": null,
   "metadata": {},
   "outputs": [],
   "source": []
  }
 ],
 "metadata": {
  "kernelspec": {
   "display_name": "Python 3",
   "language": "python",
   "name": "python3"
  },
  "language_info": {
   "codemirror_mode": {
    "name": "ipython",
    "version": 3
   },
   "file_extension": ".py",
   "mimetype": "text/x-python",
   "name": "python",
   "nbconvert_exporter": "python",
   "pygments_lexer": "ipython3",
   "version": "3.8.5"
  }
 },
 "nbformat": 4,
 "nbformat_minor": 2
}
